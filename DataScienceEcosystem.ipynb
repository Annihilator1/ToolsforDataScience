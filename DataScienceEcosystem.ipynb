{
 "cells": [
  {
   "cell_type": "markdown",
   "id": "4d23fc27-5070-4d49-bdbc-17959039fc96",
   "metadata": {},
   "source": [
    "# Data Science Tools and Ecosystem"
   ]
  },
  {
   "cell_type": "markdown",
   "id": "dd933db9-488a-4872-8caa-d12ef71a10ba",
   "metadata": {},
   "source": [
    "#### Some of the popular laguages that Data Scientists use are:\n",
    "\n",
    "1. R\n",
    "2. Python\n",
    "3. SQL"
   ]
  },
  {
   "cell_type": "markdown",
   "id": "eac2bec6-76d5-4bae-8c42-362d26dba995",
   "metadata": {},
   "source": [
    "## In this notebook, Data Science Tools and Ecosystem are summarized."
   ]
  },
  {
   "cell_type": "markdown",
   "id": "5fe39a02-e607-4791-a254-067e3b80b369",
   "metadata": {},
   "source": [
    "**Objectives**\n",
    "\n",
    "* List popular languages for Data Science\n",
    "* Some of the commonly used libraries used by Data Scientists include:\n",
    "* Data Science Tools"
   ]
  },
  {
   "cell_type": "markdown",
   "id": "94c6f4b7-8336-42a8-b7a7-67de7b16770e",
   "metadata": {},
   "source": [
    "**Some of the popular languages that Data Scientists use are:**\n",
    "\n",
    "1. Python\n",
    "2. R\n",
    "3. SQL"
   ]
  },
  {
   "cell_type": "markdown",
   "id": "7ccac82b-0a31-4fe7-8d99-b7978a962ae7",
   "metadata": {},
   "source": [
    "***Some of the commonly used libraries used by Data Scientists include:***\n",
    "\n",
    "1. Numpy\n",
    "2. Pandas\n",
    "3. Matplotlib\r\n"
   ]
  },
  {
   "cell_type": "markdown",
   "id": "5e752438-e88a-4051-abcf-6810afab84a9",
   "metadata": {},
   "source": [
    "|Data Science Tools|\n",
    "|------------------|\n",
    "|MySQL|\n",
    "|Jupyter|\n",
    "|Kubernestes|"
   ]
  },
  {
   "cell_type": "markdown",
   "id": "3b971232-174d-4b92-b032-0f15e4210178",
   "metadata": {},
   "source": [
    "### Below are a few examples of evaluating arithmetic expressions in Python ###"
   ]
  },
  {
   "cell_type": "code",
   "execution_count": 16,
   "id": "3e434669-a1df-4194-bd01-11d082e405db",
   "metadata": {},
   "outputs": [
    {
     "name": "stdout",
     "output_type": "stream",
     "text": [
      "17\n"
     ]
    }
   ],
   "source": [
    "sum = (3*4)+5\n",
    "print(sum)"
   ]
  },
  {
   "cell_type": "code",
   "execution_count": 26,
   "id": "cd4b7024-a128-47d2-bc18-fce9b2776a84",
   "metadata": {},
   "outputs": [
    {
     "name": "stdout",
     "output_type": "stream",
     "text": [
      "200 minutes is  3.3333333333333335 hours\n"
     ]
    }
   ],
   "source": [
    "#  This will convert 200 minutes to hours by diving by 60.\n",
    "min = 200\n",
    "hour = 200/60\n",
    "print (\"200 minutes is \", hour , \"hours\")"
   ]
  },
  {
   "cell_type": "markdown",
   "id": "f0bb7d5c-ecb8-4f46-bbe7-6c89920c9fa1",
   "metadata": {},
   "source": [
    "## Author ##\n",
    "Arpit Gupta"
   ]
  }
 ],
 "metadata": {
  "kernelspec": {
   "display_name": "Python 3 (ipykernel)",
   "language": "python",
   "name": "python3"
  },
  "language_info": {
   "codemirror_mode": {
    "name": "ipython",
    "version": 3
   },
   "file_extension": ".py",
   "mimetype": "text/x-python",
   "name": "python",
   "nbconvert_exporter": "python",
   "pygments_lexer": "ipython3",
   "version": "3.12.4"
  }
 },
 "nbformat": 4,
 "nbformat_minor": 5
}
